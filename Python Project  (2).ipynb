{
 "cells": [
  {
   "cell_type": "markdown",
   "id": "6a7d5404",
   "metadata": {},
   "source": [
    "<font color='blue'>\n",
    "    <font size = 5>\n",
    "        You have been given the role of a business analyst for an E-Commerce company and have been asked to prepare a basic report on the data. Follow the steps below for preparation of the report. \n",
    "\n",
    "Before you start analysing the data, it is always a good practice to see the size of the data, its features and feature types. If the data set is big, it is not possible to print out all the records. \n",
    "    </font>\n",
    "####  Note: Use the markdown feature of Python to explain your answer.\n",
    "    "
   ]
  },
  {
   "cell_type": "markdown",
   "id": "daf5d935",
   "metadata": {},
   "source": [
    "## Load the necessary libraries. Import and load the dataset with a name ECom_Data ."
   ]
  },
  {
   "cell_type": "code",
   "execution_count": 1,
   "id": "eec2a3b5",
   "metadata": {},
   "outputs": [],
   "source": [
    "import numpy as np\n",
    "import pandas as pd\n",
    "import matplotlib.pyplot as plt\n",
    "import seaborn as sns\n",
    "pd.options.display.max_rows = 10"
   ]
  },
  {
   "cell_type": "code",
   "execution_count": 2,
   "id": "8e1fcc97",
   "metadata": {},
   "outputs": [],
   "source": [
    "# Get the Data\n",
    "\n",
    "ECom_Data=pd.read_csv(\"E-Commerce_Flipkart.csv\")\n"
   ]
  },
  {
   "cell_type": "markdown",
   "id": "2cf5f20f",
   "metadata": {},
   "source": [
    "<font color='blue'>\n",
    "    <font size = 5>\n",
    "        We have read the data and stored the data in \"ECom_Data\" variable </font>"
   ]
  },
  {
   "cell_type": "markdown",
   "id": "a0a4f84a",
   "metadata": {},
   "source": [
    "## Q 1.\tTo get familiar with the data\n",
    "## a)\tPrint out the first 10 and the last 10 records of the data. (2 marks)\n",
    "## b)\tHow many rows and columns are present in the dataset? Use any two different methods to extract this information. (2 + 2 + 2 marks)\n",
    "## c)\tHow many object data types are there? (1 mark)\n",
    "## d)\tIs there any Boolean data type? (1 mark) \n",
    "#### Note: Use the markdown feature of Python to explain your answer.\n"
   ]
  },
  {
   "cell_type": "code",
   "execution_count": null,
   "id": "55ad77c3",
   "metadata": {},
   "outputs": [],
   "source": []
  },
  {
   "cell_type": "markdown",
   "id": "0ba43d74",
   "metadata": {},
   "source": [
    "#### Ans 1 a)"
   ]
  },
  {
   "cell_type": "code",
   "execution_count": 3,
   "id": "6684f5a1",
   "metadata": {},
   "outputs": [
    {
     "data": {
      "text/html": [
       "<div>\n",
       "<style scoped>\n",
       "    .dataframe tbody tr th:only-of-type {\n",
       "        vertical-align: middle;\n",
       "    }\n",
       "\n",
       "    .dataframe tbody tr th {\n",
       "        vertical-align: top;\n",
       "    }\n",
       "\n",
       "    .dataframe thead th {\n",
       "        text-align: right;\n",
       "    }\n",
       "</style>\n",
       "<table border=\"1\" class=\"dataframe\">\n",
       "  <thead>\n",
       "    <tr style=\"text-align: right;\">\n",
       "      <th></th>\n",
       "      <th>Customer_uniq_id</th>\n",
       "      <th>Region</th>\n",
       "      <th>Order_Date</th>\n",
       "      <th>Expected_Delivery_Date</th>\n",
       "      <th>Delivered_Date</th>\n",
       "      <th>product_name</th>\n",
       "      <th>product_main_category</th>\n",
       "      <th>product_subcategory</th>\n",
       "      <th>product_category_filter</th>\n",
       "      <th>product_category_subfilter</th>\n",
       "      <th>product_unique ID</th>\n",
       "      <th>retail_price</th>\n",
       "      <th>discounted_price</th>\n",
       "      <th>product_rating</th>\n",
       "      <th>Brand</th>\n",
       "      <th>product_specifications</th>\n",
       "      <th>description</th>\n",
       "    </tr>\n",
       "  </thead>\n",
       "  <tbody>\n",
       "    <tr>\n",
       "      <th>0</th>\n",
       "      <td>c2d766ca982eca8304150849735ffef9</td>\n",
       "      <td>North</td>\n",
       "      <td>31-12-2021</td>\n",
       "      <td>03-01-2022</td>\n",
       "      <td>02-01-2022</td>\n",
       "      <td>Alisha Solid Women's Cycling Shorts</td>\n",
       "      <td>Clothing</td>\n",
       "      <td>Women's Clothing</td>\n",
       "      <td>Lingerie, Sleep &amp; Swimwear</td>\n",
       "      <td>Shorts</td>\n",
       "      <td>SRTEH2FF9KEDEFGF</td>\n",
       "      <td>999</td>\n",
       "      <td>379</td>\n",
       "      <td>2.0</td>\n",
       "      <td>Alisha</td>\n",
       "      <td>{\"product_specification\"=&gt;[{\"key\"=&gt;\"Number of ...</td>\n",
       "      <td>Key Features of Alisha Solid Women's Cycling S...</td>\n",
       "    </tr>\n",
       "    <tr>\n",
       "      <th>1</th>\n",
       "      <td>7f7036a6d550aaa89d34c77bd39a5e48</td>\n",
       "      <td>East</td>\n",
       "      <td>31-12-2021</td>\n",
       "      <td>03-01-2022</td>\n",
       "      <td>02-01-2022</td>\n",
       "      <td>FabHomeDecor Fabric Double Sofa Bed</td>\n",
       "      <td>Furniture</td>\n",
       "      <td>Living Room Furniture</td>\n",
       "      <td>Sofa Beds &amp; Futons</td>\n",
       "      <td>FabHomeDecor Fabric Double Sofa Bed (Finish C...</td>\n",
       "      <td>SBEEH3QGU7MFYJFY</td>\n",
       "      <td>32157</td>\n",
       "      <td>22646</td>\n",
       "      <td>2.0</td>\n",
       "      <td>FabHomeDecor</td>\n",
       "      <td>{\"product_specification\"=&gt;[{\"key\"=&gt;\"Installati...</td>\n",
       "      <td>FabHomeDecor Fabric Double Sofa Bed (Finish Co...</td>\n",
       "    </tr>\n",
       "    <tr>\n",
       "      <th>2</th>\n",
       "      <td>f449ec65dcbc041b6ae5e6a32717d01b</td>\n",
       "      <td>East</td>\n",
       "      <td>31-12-2021</td>\n",
       "      <td>03-01-2022</td>\n",
       "      <td>02-01-2022</td>\n",
       "      <td>AW Bellies</td>\n",
       "      <td>Footwear</td>\n",
       "      <td>Women's Footwear</td>\n",
       "      <td>Ballerinas</td>\n",
       "      <td>AW Bellies</td>\n",
       "      <td>SHOEH4GRSUBJGZXE</td>\n",
       "      <td>999</td>\n",
       "      <td>499</td>\n",
       "      <td>1.0</td>\n",
       "      <td>AW</td>\n",
       "      <td>{\"product_specification\"=&gt;[{\"key\"=&gt;\"Ideal For\"...</td>\n",
       "      <td>Key Features of AW Bellies Sandals Wedges Heel...</td>\n",
       "    </tr>\n",
       "    <tr>\n",
       "      <th>3</th>\n",
       "      <td>0973b37acd0c664e3de26e97e5571454</td>\n",
       "      <td>West</td>\n",
       "      <td>31-12-2021</td>\n",
       "      <td>03-01-2022</td>\n",
       "      <td>02-01-2022</td>\n",
       "      <td>Alisha Solid Women's Cycling Shorts</td>\n",
       "      <td>Clothing</td>\n",
       "      <td>Women's Clothing</td>\n",
       "      <td>Lingerie, Sleep &amp; Swimwear</td>\n",
       "      <td>Shorts</td>\n",
       "      <td>SRTEH2F6HUZMQ6SJ</td>\n",
       "      <td>699</td>\n",
       "      <td>267</td>\n",
       "      <td>5.0</td>\n",
       "      <td>Alisha</td>\n",
       "      <td>{\"product_specification\"=&gt;[{\"key\"=&gt;\"Number of ...</td>\n",
       "      <td>Key Features of Alisha Solid Women's Cycling S...</td>\n",
       "    </tr>\n",
       "    <tr>\n",
       "      <th>4</th>\n",
       "      <td>bc940ea42ee6bef5ac7cea3fb5cfbee7</td>\n",
       "      <td>West</td>\n",
       "      <td>31-12-2021</td>\n",
       "      <td>03-01-2022</td>\n",
       "      <td>02-01-2022</td>\n",
       "      <td>Sicons All Purpose Arnica Dog Shampoo</td>\n",
       "      <td>Pet Supplies</td>\n",
       "      <td>Grooming</td>\n",
       "      <td>Skin &amp; Coat Care</td>\n",
       "      <td>Shampoo</td>\n",
       "      <td>PSOEH3ZYDMSYARJ5</td>\n",
       "      <td>220</td>\n",
       "      <td>210</td>\n",
       "      <td>5.0</td>\n",
       "      <td>Sicons</td>\n",
       "      <td>{\"product_specification\"=&gt;[{\"key\"=&gt;\"Pet Type\",...</td>\n",
       "      <td>Specifications of Sicons All Purpose Arnica Do...</td>\n",
       "    </tr>\n",
       "    <tr>\n",
       "      <th>5</th>\n",
       "      <td>ce5a6818f7707e2cb61fdcdbba61f5ad</td>\n",
       "      <td>East</td>\n",
       "      <td>25-12-2021</td>\n",
       "      <td>28-12-2021</td>\n",
       "      <td>27-12-2021</td>\n",
       "      <td>Alisha Solid Women's Cycling Shorts</td>\n",
       "      <td>Clothing</td>\n",
       "      <td>Women's Clothing</td>\n",
       "      <td>Lingerie, Sleep &amp; Swimwear</td>\n",
       "      <td>Shorts</td>\n",
       "      <td>SRTEH2FVVKRBAXHB</td>\n",
       "      <td>1199</td>\n",
       "      <td>479</td>\n",
       "      <td>4.0</td>\n",
       "      <td>Alisha</td>\n",
       "      <td>{\"product_specification\"=&gt;[{\"key\"=&gt;\"Number of ...</td>\n",
       "      <td>Key Features of Alisha Solid Women's Cycling S...</td>\n",
       "    </tr>\n",
       "    <tr>\n",
       "      <th>6</th>\n",
       "      <td>8542703ca9e6ebdf6d742638dfb1f2ca</td>\n",
       "      <td>East</td>\n",
       "      <td>25-12-2021</td>\n",
       "      <td>28-12-2021</td>\n",
       "      <td>27-12-2021</td>\n",
       "      <td>FabHomeDecor Fabric Double Sofa Bed</td>\n",
       "      <td>Furniture</td>\n",
       "      <td>Living Room Furniture</td>\n",
       "      <td>Sofa Beds &amp; Futons</td>\n",
       "      <td>FabHomeDecor Fabric Double Sofa Bed (Finish C...</td>\n",
       "      <td>SBEEH3QGYGHFUEXN</td>\n",
       "      <td>32157</td>\n",
       "      <td>22646</td>\n",
       "      <td>2.0</td>\n",
       "      <td>FabHomeDecor</td>\n",
       "      <td>{\"product_specification\"=&gt;[{\"key\"=&gt;\"Installati...</td>\n",
       "      <td>FabHomeDecor Fabric Double Sofa Bed (Finish Co...</td>\n",
       "    </tr>\n",
       "    <tr>\n",
       "      <th>7</th>\n",
       "      <td>29c8d290caa451f97b1c32df64477a2c</td>\n",
       "      <td>North</td>\n",
       "      <td>25-12-2021</td>\n",
       "      <td>28-12-2021</td>\n",
       "      <td>27-12-2021</td>\n",
       "      <td>dilli bazaaar Bellies, Corporate Casuals, Casuals</td>\n",
       "      <td>Footwear</td>\n",
       "      <td>Women's Footwear</td>\n",
       "      <td>Ballerinas</td>\n",
       "      <td>dilli bazaaar Bellies, Corporate Casuals, Cas...</td>\n",
       "      <td>SHOEH3DZBFR88SCK</td>\n",
       "      <td>699</td>\n",
       "      <td>349</td>\n",
       "      <td>5.0</td>\n",
       "      <td>dilli bazaaar</td>\n",
       "      <td>{\"product_specification\"=&gt;[{\"key\"=&gt;\"Occasion\",...</td>\n",
       "      <td>Key Features of dilli bazaaar Bellies, Corpora...</td>\n",
       "    </tr>\n",
       "    <tr>\n",
       "      <th>8</th>\n",
       "      <td>4044c0ac52c1ee4b28777417651faf42</td>\n",
       "      <td>East</td>\n",
       "      <td>25-12-2021</td>\n",
       "      <td>28-12-2021</td>\n",
       "      <td>27-12-2021</td>\n",
       "      <td>Alisha Solid Women's Cycling Shorts</td>\n",
       "      <td>Clothing</td>\n",
       "      <td>Women's Clothing</td>\n",
       "      <td>Lingerie, Sleep &amp; Swimwear</td>\n",
       "      <td>Shorts</td>\n",
       "      <td>SRTEH2FVUHAAVH9X</td>\n",
       "      <td>1199</td>\n",
       "      <td>479</td>\n",
       "      <td>1.0</td>\n",
       "      <td>Alisha</td>\n",
       "      <td>{\"product_specification\"=&gt;[{\"key\"=&gt;\"Number of ...</td>\n",
       "      <td>Key Features of Alisha Solid Women's Cycling S...</td>\n",
       "    </tr>\n",
       "    <tr>\n",
       "      <th>9</th>\n",
       "      <td>e54bc0a7c3429da2ebef0b30331fe3d2</td>\n",
       "      <td>East</td>\n",
       "      <td>25-12-2021</td>\n",
       "      <td>28-12-2021</td>\n",
       "      <td>27-12-2021</td>\n",
       "      <td>Ladela Bellies</td>\n",
       "      <td>Footwear</td>\n",
       "      <td>Women's Footwear</td>\n",
       "      <td>Ballerinas</td>\n",
       "      <td>Ladela Bellies</td>\n",
       "      <td>SHOEH4KM2W3Z6EH5</td>\n",
       "      <td>1724</td>\n",
       "      <td>950</td>\n",
       "      <td>5.0</td>\n",
       "      <td>Ladela</td>\n",
       "      <td>{\"product_specification\"=&gt;[{\"key\"=&gt;\"Occasion\",...</td>\n",
       "      <td>Key Features of Ladela Bellies Brand: LADELA C...</td>\n",
       "    </tr>\n",
       "  </tbody>\n",
       "</table>\n",
       "</div>"
      ],
      "text/plain": [
       "                   Customer_uniq_id Region  Order_Date Expected_Delivery_Date  \\\n",
       "0  c2d766ca982eca8304150849735ffef9  North  31-12-2021             03-01-2022   \n",
       "1  7f7036a6d550aaa89d34c77bd39a5e48  East   31-12-2021             03-01-2022   \n",
       "2  f449ec65dcbc041b6ae5e6a32717d01b  East   31-12-2021             03-01-2022   \n",
       "3  0973b37acd0c664e3de26e97e5571454   West  31-12-2021             03-01-2022   \n",
       "4  bc940ea42ee6bef5ac7cea3fb5cfbee7   West  31-12-2021             03-01-2022   \n",
       "5  ce5a6818f7707e2cb61fdcdbba61f5ad  East   25-12-2021             28-12-2021   \n",
       "6  8542703ca9e6ebdf6d742638dfb1f2ca  East   25-12-2021             28-12-2021   \n",
       "7  29c8d290caa451f97b1c32df64477a2c  North  25-12-2021             28-12-2021   \n",
       "8  4044c0ac52c1ee4b28777417651faf42  East   25-12-2021             28-12-2021   \n",
       "9  e54bc0a7c3429da2ebef0b30331fe3d2  East   25-12-2021             28-12-2021   \n",
       "\n",
       "  Delivered_Date                                       product_name  \\\n",
       "0     02-01-2022                Alisha Solid Women's Cycling Shorts   \n",
       "1     02-01-2022                FabHomeDecor Fabric Double Sofa Bed   \n",
       "2     02-01-2022                                         AW Bellies   \n",
       "3     02-01-2022                Alisha Solid Women's Cycling Shorts   \n",
       "4     02-01-2022              Sicons All Purpose Arnica Dog Shampoo   \n",
       "5     27-12-2021                Alisha Solid Women's Cycling Shorts   \n",
       "6     27-12-2021                FabHomeDecor Fabric Double Sofa Bed   \n",
       "7     27-12-2021  dilli bazaaar Bellies, Corporate Casuals, Casuals   \n",
       "8     27-12-2021                Alisha Solid Women's Cycling Shorts   \n",
       "9     27-12-2021                                     Ladela Bellies   \n",
       "\n",
       "  product_main_category      product_subcategory  \\\n",
       "0             Clothing         Women's Clothing    \n",
       "1            Furniture    Living Room Furniture    \n",
       "2             Footwear         Women's Footwear    \n",
       "3             Clothing         Women's Clothing    \n",
       "4         Pet Supplies                 Grooming    \n",
       "5             Clothing         Women's Clothing    \n",
       "6            Furniture    Living Room Furniture    \n",
       "7             Footwear         Women's Footwear    \n",
       "8             Clothing         Women's Clothing    \n",
       "9             Footwear         Women's Footwear    \n",
       "\n",
       "        product_category_filter  \\\n",
       "0   Lingerie, Sleep & Swimwear    \n",
       "1           Sofa Beds & Futons    \n",
       "2                   Ballerinas    \n",
       "3   Lingerie, Sleep & Swimwear    \n",
       "4             Skin & Coat Care    \n",
       "5   Lingerie, Sleep & Swimwear    \n",
       "6           Sofa Beds & Futons    \n",
       "7                   Ballerinas    \n",
       "8   Lingerie, Sleep & Swimwear    \n",
       "9                   Ballerinas    \n",
       "\n",
       "                          product_category_subfilter product_unique ID  \\\n",
       "0                                            Shorts   SRTEH2FF9KEDEFGF   \n",
       "1   FabHomeDecor Fabric Double Sofa Bed (Finish C...  SBEEH3QGU7MFYJFY   \n",
       "2                                         AW Bellies  SHOEH4GRSUBJGZXE   \n",
       "3                                            Shorts   SRTEH2F6HUZMQ6SJ   \n",
       "4                                           Shampoo   PSOEH3ZYDMSYARJ5   \n",
       "5                                            Shorts   SRTEH2FVVKRBAXHB   \n",
       "6   FabHomeDecor Fabric Double Sofa Bed (Finish C...  SBEEH3QGYGHFUEXN   \n",
       "7   dilli bazaaar Bellies, Corporate Casuals, Cas...  SHOEH3DZBFR88SCK   \n",
       "8                                            Shorts   SRTEH2FVUHAAVH9X   \n",
       "9                                     Ladela Bellies  SHOEH4KM2W3Z6EH5   \n",
       "\n",
       "   retail_price  discounted_price  product_rating          Brand  \\\n",
       "0           999               379             2.0         Alisha   \n",
       "1         32157             22646             2.0   FabHomeDecor   \n",
       "2           999               499             1.0             AW   \n",
       "3           699               267             5.0         Alisha   \n",
       "4           220               210             5.0         Sicons   \n",
       "5          1199               479             4.0         Alisha   \n",
       "6         32157             22646             2.0   FabHomeDecor   \n",
       "7           699               349             5.0  dilli bazaaar   \n",
       "8          1199               479             1.0         Alisha   \n",
       "9          1724               950             5.0         Ladela   \n",
       "\n",
       "                              product_specifications  \\\n",
       "0  {\"product_specification\"=>[{\"key\"=>\"Number of ...   \n",
       "1  {\"product_specification\"=>[{\"key\"=>\"Installati...   \n",
       "2  {\"product_specification\"=>[{\"key\"=>\"Ideal For\"...   \n",
       "3  {\"product_specification\"=>[{\"key\"=>\"Number of ...   \n",
       "4  {\"product_specification\"=>[{\"key\"=>\"Pet Type\",...   \n",
       "5  {\"product_specification\"=>[{\"key\"=>\"Number of ...   \n",
       "6  {\"product_specification\"=>[{\"key\"=>\"Installati...   \n",
       "7  {\"product_specification\"=>[{\"key\"=>\"Occasion\",...   \n",
       "8  {\"product_specification\"=>[{\"key\"=>\"Number of ...   \n",
       "9  {\"product_specification\"=>[{\"key\"=>\"Occasion\",...   \n",
       "\n",
       "                                         description  \n",
       "0  Key Features of Alisha Solid Women's Cycling S...  \n",
       "1  FabHomeDecor Fabric Double Sofa Bed (Finish Co...  \n",
       "2  Key Features of AW Bellies Sandals Wedges Heel...  \n",
       "3  Key Features of Alisha Solid Women's Cycling S...  \n",
       "4  Specifications of Sicons All Purpose Arnica Do...  \n",
       "5  Key Features of Alisha Solid Women's Cycling S...  \n",
       "6  FabHomeDecor Fabric Double Sofa Bed (Finish Co...  \n",
       "7  Key Features of dilli bazaaar Bellies, Corpora...  \n",
       "8  Key Features of Alisha Solid Women's Cycling S...  \n",
       "9  Key Features of Ladela Bellies Brand: LADELA C...  "
      ]
     },
     "execution_count": 3,
     "metadata": {},
     "output_type": "execute_result"
    }
   ],
   "source": [
    "ECom_Data.head(10)"
   ]
  },
  {
   "cell_type": "code",
   "execution_count": 4,
   "id": "20dfe217",
   "metadata": {},
   "outputs": [
    {
     "data": {
      "text/html": [
       "<div>\n",
       "<style scoped>\n",
       "    .dataframe tbody tr th:only-of-type {\n",
       "        vertical-align: middle;\n",
       "    }\n",
       "\n",
       "    .dataframe tbody tr th {\n",
       "        vertical-align: top;\n",
       "    }\n",
       "\n",
       "    .dataframe thead th {\n",
       "        text-align: right;\n",
       "    }\n",
       "</style>\n",
       "<table border=\"1\" class=\"dataframe\">\n",
       "  <thead>\n",
       "    <tr style=\"text-align: right;\">\n",
       "      <th></th>\n",
       "      <th>Customer_uniq_id</th>\n",
       "      <th>Region</th>\n",
       "      <th>Order_Date</th>\n",
       "      <th>Expected_Delivery_Date</th>\n",
       "      <th>Delivered_Date</th>\n",
       "      <th>product_name</th>\n",
       "      <th>product_main_category</th>\n",
       "      <th>product_subcategory</th>\n",
       "      <th>product_category_filter</th>\n",
       "      <th>product_category_subfilter</th>\n",
       "      <th>product_unique ID</th>\n",
       "      <th>retail_price</th>\n",
       "      <th>discounted_price</th>\n",
       "      <th>product_rating</th>\n",
       "      <th>Brand</th>\n",
       "      <th>product_specifications</th>\n",
       "      <th>description</th>\n",
       "    </tr>\n",
       "  </thead>\n",
       "  <tbody>\n",
       "    <tr>\n",
       "      <th>8917</th>\n",
       "      <td>4db03bc4ccbe216cf151b2f2b904ba3f</td>\n",
       "      <td>East</td>\n",
       "      <td>01-12-2020</td>\n",
       "      <td>04-12-2020</td>\n",
       "      <td>04-12-2020</td>\n",
       "      <td>Luca Fashion Girls Heels</td>\n",
       "      <td>Footwear</td>\n",
       "      <td>Kids' &amp; Infant Footwear</td>\n",
       "      <td>For Girls</td>\n",
       "      <td>Sandals</td>\n",
       "      <td>SNDEHG3DNVBFGAT5</td>\n",
       "      <td>999</td>\n",
       "      <td>499</td>\n",
       "      <td>4.0</td>\n",
       "      <td>Luca Fashion</td>\n",
       "      <td>{\"product_specification\"=&gt;[{\"key\"=&gt;\"Occasion\",...</td>\n",
       "      <td>Key Features of Luca Fashion Girls Heels Occas...</td>\n",
       "    </tr>\n",
       "    <tr>\n",
       "      <th>8918</th>\n",
       "      <td>4d4d6aeb13fa253499d0dd45a5abd87e</td>\n",
       "      <td>West</td>\n",
       "      <td>01-12-2020</td>\n",
       "      <td>04-12-2020</td>\n",
       "      <td>04-12-2020</td>\n",
       "      <td>Shoetopia Girls Sandals</td>\n",
       "      <td>Footwear</td>\n",
       "      <td>Kids' &amp; Infant Footwear</td>\n",
       "      <td>For Girls</td>\n",
       "      <td>Sandals</td>\n",
       "      <td>SNDEG7DRWSX8HFXZ</td>\n",
       "      <td>499</td>\n",
       "      <td>399</td>\n",
       "      <td>4.0</td>\n",
       "      <td>Shoetopia</td>\n",
       "      <td>{\"product_specification\"=&gt;[{\"key\"=&gt;\"Ideal For\"...</td>\n",
       "      <td>Key Features of Shoetopia Girls Sandals Flats ...</td>\n",
       "    </tr>\n",
       "    <tr>\n",
       "      <th>8919</th>\n",
       "      <td>ea19e7ef703293d3f6c799ca9db4642d</td>\n",
       "      <td>West</td>\n",
       "      <td>01-12-2020</td>\n",
       "      <td>04-12-2020</td>\n",
       "      <td>04-12-2020</td>\n",
       "      <td>SMART TRADERS Girls Sandals</td>\n",
       "      <td>Footwear</td>\n",
       "      <td>Kids' &amp; Infant Footwear</td>\n",
       "      <td>For Girls</td>\n",
       "      <td>Sandals</td>\n",
       "      <td>SNDEG7MZHHKZ58D2</td>\n",
       "      <td>999</td>\n",
       "      <td>499</td>\n",
       "      <td>5.0</td>\n",
       "      <td>SMART TRADERS</td>\n",
       "      <td>{\"product_specification\"=&gt;[{\"key\"=&gt;\"Ideal For\"...</td>\n",
       "      <td>Key Features of SMART TRADERS Girls Sandals Oc...</td>\n",
       "    </tr>\n",
       "    <tr>\n",
       "      <th>8920</th>\n",
       "      <td>19a53a958992fb575acffb5d41e7ef9e</td>\n",
       "      <td>East</td>\n",
       "      <td>01-12-2020</td>\n",
       "      <td>04-12-2020</td>\n",
       "      <td>04-12-2020</td>\n",
       "      <td>Beanz Girls Flats</td>\n",
       "      <td>Footwear</td>\n",
       "      <td>Kids' &amp; Infant Footwear</td>\n",
       "      <td>For Girls</td>\n",
       "      <td>Sandals</td>\n",
       "      <td>SNDEG7DYVFWHZBC4</td>\n",
       "      <td>1299</td>\n",
       "      <td>1299</td>\n",
       "      <td>3.0</td>\n",
       "      <td>Beanz</td>\n",
       "      <td>{\"product_specification\"=&gt;[{\"key\"=&gt;\"Occasion\",...</td>\n",
       "      <td>Key Features of Beanz Girls Flats Occasion: Ca...</td>\n",
       "    </tr>\n",
       "    <tr>\n",
       "      <th>8921</th>\n",
       "      <td>09abab80c8dfdc6f268e0a6f05a0be11</td>\n",
       "      <td>North</td>\n",
       "      <td>01-12-2020</td>\n",
       "      <td>04-12-2020</td>\n",
       "      <td>04-12-2020</td>\n",
       "      <td>Nova KT 728S Electric Kettle</td>\n",
       "      <td>Home &amp; Kitchen</td>\n",
       "      <td>Kitchen Appliances</td>\n",
       "      <td>Electric Jug(heater)/Travel Kettles</td>\n",
       "      <td>Nova Electric Jug(heater)/Travel Kettles</td>\n",
       "      <td>EKTDG5C5QSADZZ8J</td>\n",
       "      <td>3195</td>\n",
       "      <td>699</td>\n",
       "      <td>3.6</td>\n",
       "      <td>Nova</td>\n",
       "      <td>{\"product_specification\"=&gt;[{\"key\"=&gt;\"Brand\", \"v...</td>\n",
       "      <td>Specifications of Nova KT 728S Electric Kettle...</td>\n",
       "    </tr>\n",
       "    <tr>\n",
       "      <th>8922</th>\n",
       "      <td>90d30478255e23621e8929ed15c2f6e4</td>\n",
       "      <td>South</td>\n",
       "      <td>01-12-2020</td>\n",
       "      <td>04-12-2020</td>\n",
       "      <td>04-12-2020</td>\n",
       "      <td>Sinina Chanderi Embroidered Salwar Suit Dupatt...</td>\n",
       "      <td>Clothing</td>\n",
       "      <td>Women's Clothing</td>\n",
       "      <td>Ethnic Wear</td>\n",
       "      <td>Fabric</td>\n",
       "      <td>FABEGGHHDFMY8BZU</td>\n",
       "      <td>2980</td>\n",
       "      <td>1490</td>\n",
       "      <td>3.0</td>\n",
       "      <td>Sinina</td>\n",
       "      <td>{\"product_specification\"=&gt;[{\"key\"=&gt;\"Fabric\", \"...</td>\n",
       "      <td>Key Features of Sinina Chanderi Embroidered Sa...</td>\n",
       "    </tr>\n",
       "    <tr>\n",
       "      <th>8923</th>\n",
       "      <td>20a73e3f41490a73ceeba5f17658db8f</td>\n",
       "      <td>West</td>\n",
       "      <td>01-12-2020</td>\n",
       "      <td>04-12-2020</td>\n",
       "      <td>04-12-2020</td>\n",
       "      <td>Aarushi Fashion Chanderi Embroidered Salwar Su...</td>\n",
       "      <td>Clothing</td>\n",
       "      <td>Women's Clothing</td>\n",
       "      <td>Ethnic Wear</td>\n",
       "      <td>Fabric</td>\n",
       "      <td>FABEG8GFDUWRSNU3</td>\n",
       "      <td>2600</td>\n",
       "      <td>1300</td>\n",
       "      <td>1.0</td>\n",
       "      <td>Aarushi Fashion</td>\n",
       "      <td>{\"product_specification\"=&gt;[{\"key\"=&gt;\"Fabric\", \"...</td>\n",
       "      <td>Key Features of Aarushi Fashion Chanderi Embro...</td>\n",
       "    </tr>\n",
       "    <tr>\n",
       "      <th>8924</th>\n",
       "      <td>5c1554cd45f9d538c2c6947dbdd59c75</td>\n",
       "      <td>East</td>\n",
       "      <td>01-12-2020</td>\n",
       "      <td>04-12-2020</td>\n",
       "      <td>04-12-2020</td>\n",
       "      <td>Ambika Lahenga Embroidered Lehenga, Choli and ...</td>\n",
       "      <td>Clothing</td>\n",
       "      <td>Women's Clothing</td>\n",
       "      <td>Ethnic Wear</td>\n",
       "      <td>Lehenga Cholis</td>\n",
       "      <td>LEHEGGEHYN4G2RPW</td>\n",
       "      <td>39992</td>\n",
       "      <td>24995</td>\n",
       "      <td>1.0</td>\n",
       "      <td>Ambika Lahenga</td>\n",
       "      <td>{\"product_specification\"=&gt;[{\"key\"=&gt;\"Fabric\", \"...</td>\n",
       "      <td>Key Features of Ambika Lahenga Embroidered Leh...</td>\n",
       "    </tr>\n",
       "    <tr>\n",
       "      <th>8925</th>\n",
       "      <td>6b737a4deca1ed0e56c179e66036e994</td>\n",
       "      <td>West</td>\n",
       "      <td>01-12-2020</td>\n",
       "      <td>04-12-2020</td>\n",
       "      <td>04-12-2020</td>\n",
       "      <td>Sinina Chanderi Embroidered Salwar Suit Dupatt...</td>\n",
       "      <td>Clothing</td>\n",
       "      <td>Women's Clothing</td>\n",
       "      <td>Ethnic Wear</td>\n",
       "      <td>Fabric</td>\n",
       "      <td>FABEGGHHGSVCHGFV</td>\n",
       "      <td>2000</td>\n",
       "      <td>1000</td>\n",
       "      <td>3.0</td>\n",
       "      <td>Sinina</td>\n",
       "      <td>{\"product_specification\"=&gt;[{\"key\"=&gt;\"Fabric\", \"...</td>\n",
       "      <td>Key Features of Sinina Chanderi Embroidered Sa...</td>\n",
       "    </tr>\n",
       "    <tr>\n",
       "      <th>8926</th>\n",
       "      <td>a5235ac28d3d5487f54025f9d6b57433</td>\n",
       "      <td>North</td>\n",
       "      <td>01-12-2020</td>\n",
       "      <td>04-12-2020</td>\n",
       "      <td>04-12-2020</td>\n",
       "      <td>Aarushi Fashion Silk Striped Salwar Suit Dupat...</td>\n",
       "      <td>Clothing</td>\n",
       "      <td>Women's Clothing</td>\n",
       "      <td>Ethnic Wear</td>\n",
       "      <td>Fabric</td>\n",
       "      <td>FABEG8GYDAABECZH</td>\n",
       "      <td>2800</td>\n",
       "      <td>1350</td>\n",
       "      <td>4.0</td>\n",
       "      <td>Aarushi Fashion</td>\n",
       "      <td>{\"product_specification\"=&gt;[{\"key\"=&gt;\"Fabric\", \"...</td>\n",
       "      <td>Key Features of Aarushi Fashion Silk Striped S...</td>\n",
       "    </tr>\n",
       "  </tbody>\n",
       "</table>\n",
       "</div>"
      ],
      "text/plain": [
       "                      Customer_uniq_id Region  Order_Date  \\\n",
       "8917  4db03bc4ccbe216cf151b2f2b904ba3f  East   01-12-2020   \n",
       "8918  4d4d6aeb13fa253499d0dd45a5abd87e   West  01-12-2020   \n",
       "8919  ea19e7ef703293d3f6c799ca9db4642d   West  01-12-2020   \n",
       "8920  19a53a958992fb575acffb5d41e7ef9e  East   01-12-2020   \n",
       "8921  09abab80c8dfdc6f268e0a6f05a0be11  North  01-12-2020   \n",
       "8922  90d30478255e23621e8929ed15c2f6e4  South  01-12-2020   \n",
       "8923  20a73e3f41490a73ceeba5f17658db8f   West  01-12-2020   \n",
       "8924  5c1554cd45f9d538c2c6947dbdd59c75  East   01-12-2020   \n",
       "8925  6b737a4deca1ed0e56c179e66036e994   West  01-12-2020   \n",
       "8926  a5235ac28d3d5487f54025f9d6b57433  North  01-12-2020   \n",
       "\n",
       "     Expected_Delivery_Date Delivered_Date  \\\n",
       "8917             04-12-2020     04-12-2020   \n",
       "8918             04-12-2020     04-12-2020   \n",
       "8919             04-12-2020     04-12-2020   \n",
       "8920             04-12-2020     04-12-2020   \n",
       "8921             04-12-2020     04-12-2020   \n",
       "8922             04-12-2020     04-12-2020   \n",
       "8923             04-12-2020     04-12-2020   \n",
       "8924             04-12-2020     04-12-2020   \n",
       "8925             04-12-2020     04-12-2020   \n",
       "8926             04-12-2020     04-12-2020   \n",
       "\n",
       "                                           product_name product_main_category  \\\n",
       "8917                           Luca Fashion Girls Heels             Footwear    \n",
       "8918                            Shoetopia Girls Sandals             Footwear    \n",
       "8919                        SMART TRADERS Girls Sandals             Footwear    \n",
       "8920                                  Beanz Girls Flats             Footwear    \n",
       "8921                       Nova KT 728S Electric Kettle       Home & Kitchen    \n",
       "8922  Sinina Chanderi Embroidered Salwar Suit Dupatt...             Clothing    \n",
       "8923  Aarushi Fashion Chanderi Embroidered Salwar Su...             Clothing    \n",
       "8924  Ambika Lahenga Embroidered Lehenga, Choli and ...             Clothing    \n",
       "8925  Sinina Chanderi Embroidered Salwar Suit Dupatt...             Clothing    \n",
       "8926  Aarushi Fashion Silk Striped Salwar Suit Dupat...             Clothing    \n",
       "\n",
       "            product_subcategory                product_category_filter  \\\n",
       "8917   Kids' & Infant Footwear                              For Girls    \n",
       "8918   Kids' & Infant Footwear                              For Girls    \n",
       "8919   Kids' & Infant Footwear                              For Girls    \n",
       "8920   Kids' & Infant Footwear                              For Girls    \n",
       "8921        Kitchen Appliances    Electric Jug(heater)/Travel Kettles    \n",
       "8922          Women's Clothing                            Ethnic Wear    \n",
       "8923          Women's Clothing                            Ethnic Wear    \n",
       "8924          Women's Clothing                            Ethnic Wear    \n",
       "8925          Women's Clothing                            Ethnic Wear    \n",
       "8926          Women's Clothing                            Ethnic Wear    \n",
       "\n",
       "                      product_category_subfilter product_unique ID  \\\n",
       "8917                                    Sandals   SNDEHG3DNVBFGAT5   \n",
       "8918                                    Sandals   SNDEG7DRWSX8HFXZ   \n",
       "8919                                    Sandals   SNDEG7MZHHKZ58D2   \n",
       "8920                                    Sandals   SNDEG7DYVFWHZBC4   \n",
       "8921   Nova Electric Jug(heater)/Travel Kettles   EKTDG5C5QSADZZ8J   \n",
       "8922                                     Fabric   FABEGGHHDFMY8BZU   \n",
       "8923                                     Fabric   FABEG8GFDUWRSNU3   \n",
       "8924                             Lehenga Cholis   LEHEGGEHYN4G2RPW   \n",
       "8925                                     Fabric   FABEGGHHGSVCHGFV   \n",
       "8926                                     Fabric   FABEG8GYDAABECZH   \n",
       "\n",
       "      retail_price  discounted_price  product_rating            Brand  \\\n",
       "8917           999               499             4.0     Luca Fashion   \n",
       "8918           499               399             4.0        Shoetopia   \n",
       "8919           999               499             5.0    SMART TRADERS   \n",
       "8920          1299              1299             3.0            Beanz   \n",
       "8921          3195               699             3.6             Nova   \n",
       "8922          2980              1490             3.0           Sinina   \n",
       "8923          2600              1300             1.0  Aarushi Fashion   \n",
       "8924         39992             24995             1.0   Ambika Lahenga   \n",
       "8925          2000              1000             3.0           Sinina   \n",
       "8926          2800              1350             4.0  Aarushi Fashion   \n",
       "\n",
       "                                 product_specifications  \\\n",
       "8917  {\"product_specification\"=>[{\"key\"=>\"Occasion\",...   \n",
       "8918  {\"product_specification\"=>[{\"key\"=>\"Ideal For\"...   \n",
       "8919  {\"product_specification\"=>[{\"key\"=>\"Ideal For\"...   \n",
       "8920  {\"product_specification\"=>[{\"key\"=>\"Occasion\",...   \n",
       "8921  {\"product_specification\"=>[{\"key\"=>\"Brand\", \"v...   \n",
       "8922  {\"product_specification\"=>[{\"key\"=>\"Fabric\", \"...   \n",
       "8923  {\"product_specification\"=>[{\"key\"=>\"Fabric\", \"...   \n",
       "8924  {\"product_specification\"=>[{\"key\"=>\"Fabric\", \"...   \n",
       "8925  {\"product_specification\"=>[{\"key\"=>\"Fabric\", \"...   \n",
       "8926  {\"product_specification\"=>[{\"key\"=>\"Fabric\", \"...   \n",
       "\n",
       "                                            description  \n",
       "8917  Key Features of Luca Fashion Girls Heels Occas...  \n",
       "8918  Key Features of Shoetopia Girls Sandals Flats ...  \n",
       "8919  Key Features of SMART TRADERS Girls Sandals Oc...  \n",
       "8920  Key Features of Beanz Girls Flats Occasion: Ca...  \n",
       "8921  Specifications of Nova KT 728S Electric Kettle...  \n",
       "8922  Key Features of Sinina Chanderi Embroidered Sa...  \n",
       "8923  Key Features of Aarushi Fashion Chanderi Embro...  \n",
       "8924  Key Features of Ambika Lahenga Embroidered Leh...  \n",
       "8925  Key Features of Sinina Chanderi Embroidered Sa...  \n",
       "8926  Key Features of Aarushi Fashion Silk Striped S...  "
      ]
     },
     "execution_count": 4,
     "metadata": {},
     "output_type": "execute_result"
    }
   ],
   "source": [
    "ECom_Data.tail(10)"
   ]
  },
  {
   "cell_type": "markdown",
   "id": "48baeda6",
   "metadata": {},
   "source": [
    "#### Ans 1 b)"
   ]
  },
  {
   "cell_type": "code",
   "execution_count": 5,
   "id": "0ac3ef5d",
   "metadata": {},
   "outputs": [
    {
     "name": "stdout",
     "output_type": "stream",
     "text": [
      "Dataset info:  8927 rows and 17 columns\n"
     ]
    }
   ],
   "source": [
    "# Method 1\n",
    "print('Dataset info: ',ECom_Data.shape[0],'rows and',ECom_Data.shape[1],'columns')"
   ]
  },
  {
   "cell_type": "code",
   "execution_count": 6,
   "id": "4ff855a5",
   "metadata": {},
   "outputs": [
    {
     "name": "stdout",
     "output_type": "stream",
     "text": [
      "<class 'pandas.core.frame.DataFrame'>\n",
      "RangeIndex: 8927 entries, 0 to 8926\n",
      "Data columns (total 17 columns):\n",
      " #   Column                      Non-Null Count  Dtype  \n",
      "---  ------                      --------------  -----  \n",
      " 0   Customer_uniq_id            8927 non-null   object \n",
      " 1   Region                      8927 non-null   object \n",
      " 2   Order_Date                  8927 non-null   object \n",
      " 3   Expected_Delivery_Date      8927 non-null   object \n",
      " 4   Delivered_Date              8927 non-null   object \n",
      " 5   product_name                8927 non-null   object \n",
      " 6   product_main_category       8927 non-null   object \n",
      " 7   product_subcategory         8927 non-null   object \n",
      " 8   product_category_filter     8927 non-null   object \n",
      " 9   product_category_subfilter  8927 non-null   object \n",
      " 10  product_unique ID           8927 non-null   object \n",
      " 11  retail_price                8927 non-null   int64  \n",
      " 12  discounted_price            8927 non-null   int64  \n",
      " 13  product_rating              8927 non-null   float64\n",
      " 14  Brand                       8927 non-null   object \n",
      " 15  product_specifications      8927 non-null   object \n",
      " 16  description                 8927 non-null   object \n",
      "dtypes: float64(1), int64(2), object(14)\n",
      "memory usage: 1.2+ MB\n"
     ]
    }
   ],
   "source": [
    "# Method 2\n",
    "ECom_Data.info()"
   ]
  },
  {
   "cell_type": "markdown",
   "id": "6aaa54a0",
   "metadata": {},
   "source": [
    "#### Ans  1 c)"
   ]
  },
  {
   "cell_type": "code",
   "execution_count": 32,
   "id": "115627b2",
   "metadata": {},
   "outputs": [
    {
     "name": "stdout",
     "output_type": "stream",
     "text": [
      "<class 'pandas.core.frame.DataFrame'>\n",
      "RangeIndex: 8927 entries, 0 to 8926\n",
      "Data columns (total 17 columns):\n",
      " #   Column                      Non-Null Count  Dtype  \n",
      "---  ------                      --------------  -----  \n",
      " 0   Customer_uniq_id            8927 non-null   object \n",
      " 1   Region                      8927 non-null   object \n",
      " 2   Order_Date                  8927 non-null   object \n",
      " 3   Expected_Delivery_Date      8927 non-null   object \n",
      " 4   Delivered_Date              8927 non-null   object \n",
      " 5   product_name                8927 non-null   object \n",
      " 6   product_main_category       8927 non-null   object \n",
      " 7   product_subcategory         8927 non-null   object \n",
      " 8   product_category_filter     8927 non-null   object \n",
      " 9   product_category_subfilter  8927 non-null   object \n",
      " 10  product_unique ID           8927 non-null   object \n",
      " 11  retail_price                8927 non-null   int64  \n",
      " 12  discounted_price            8927 non-null   int64  \n",
      " 13  product_rating              8927 non-null   float64\n",
      " 14  Brand                       8927 non-null   object \n",
      " 15  product_specifications      8927 non-null   object \n",
      " 16  description                 8927 non-null   object \n",
      "dtypes: float64(1), int64(2), object(14)\n",
      "memory usage: 1.2+ MB\n"
     ]
    }
   ],
   "source": [
    "ECom_Data.info()"
   ]
  },
  {
   "cell_type": "markdown",
   "id": "5e63573c",
   "metadata": {},
   "source": [
    "### Ans 1 d)"
   ]
  },
  {
   "cell_type": "markdown",
   "id": "569d4c00",
   "metadata": {},
   "source": [
    "There are no boolean data types as the value count function contains only object int and float data types"
   ]
  },
  {
   "cell_type": "markdown",
   "id": "cc5d76f1",
   "metadata": {},
   "source": [
    "<font color='blue'>\n",
    "    <font size = 5>\n",
    " Once you are familiar with the data, you may decide that not all features are of use to you and you may want to delete the non-informative features (columns)</font>"
   ]
  },
  {
   "cell_type": "markdown",
   "id": "90db65ce",
   "metadata": {},
   "source": [
    "## Q 2.\tEliminating the non-informative columns.\n",
    "## a)\tDrop the columns product_specifications and description. (2 marks) \n",
    "## b)\tWhich method or function is used to permanently delete the columns mentioned in part (a)? Write the code explicitly (2 marks)\n",
    "### Note: Use the markdown feature of Python to explain your answer.\n"
   ]
  },
  {
   "cell_type": "markdown",
   "id": "e0e7e762",
   "metadata": {},
   "source": [
    "### Ans 2 a)"
   ]
  },
  {
   "cell_type": "code",
   "execution_count": 8,
   "id": "35ad0821",
   "metadata": {},
   "outputs": [
    {
     "data": {
      "text/html": [
       "<div>\n",
       "<style scoped>\n",
       "    .dataframe tbody tr th:only-of-type {\n",
       "        vertical-align: middle;\n",
       "    }\n",
       "\n",
       "    .dataframe tbody tr th {\n",
       "        vertical-align: top;\n",
       "    }\n",
       "\n",
       "    .dataframe thead th {\n",
       "        text-align: right;\n",
       "    }\n",
       "</style>\n",
       "<table border=\"1\" class=\"dataframe\">\n",
       "  <thead>\n",
       "    <tr style=\"text-align: right;\">\n",
       "      <th></th>\n",
       "      <th>Customer_uniq_id</th>\n",
       "      <th>Region</th>\n",
       "      <th>Order_Date</th>\n",
       "      <th>Expected_Delivery_Date</th>\n",
       "      <th>Delivered_Date</th>\n",
       "      <th>product_name</th>\n",
       "      <th>product_main_category</th>\n",
       "      <th>product_subcategory</th>\n",
       "      <th>product_category_filter</th>\n",
       "      <th>product_category_subfilter</th>\n",
       "      <th>product_unique ID</th>\n",
       "      <th>retail_price</th>\n",
       "      <th>discounted_price</th>\n",
       "      <th>product_rating</th>\n",
       "      <th>Brand</th>\n",
       "    </tr>\n",
       "  </thead>\n",
       "  <tbody>\n",
       "    <tr>\n",
       "      <th>0</th>\n",
       "      <td>c2d766ca982eca8304150849735ffef9</td>\n",
       "      <td>North</td>\n",
       "      <td>31-12-2021</td>\n",
       "      <td>03-01-2022</td>\n",
       "      <td>02-01-2022</td>\n",
       "      <td>Alisha Solid Women's Cycling Shorts</td>\n",
       "      <td>Clothing</td>\n",
       "      <td>Women's Clothing</td>\n",
       "      <td>Lingerie, Sleep &amp; Swimwear</td>\n",
       "      <td>Shorts</td>\n",
       "      <td>SRTEH2FF9KEDEFGF</td>\n",
       "      <td>999</td>\n",
       "      <td>379</td>\n",
       "      <td>2.0</td>\n",
       "      <td>Alisha</td>\n",
       "    </tr>\n",
       "  </tbody>\n",
       "</table>\n",
       "</div>"
      ],
      "text/plain": [
       "                   Customer_uniq_id Region  Order_Date Expected_Delivery_Date  \\\n",
       "0  c2d766ca982eca8304150849735ffef9  North  31-12-2021             03-01-2022   \n",
       "\n",
       "  Delivered_Date                         product_name product_main_category  \\\n",
       "0     02-01-2022  Alisha Solid Women's Cycling Shorts             Clothing    \n",
       "\n",
       "  product_subcategory       product_category_filter  \\\n",
       "0   Women's Clothing    Lingerie, Sleep & Swimwear    \n",
       "\n",
       "  product_category_subfilter product_unique ID  retail_price  \\\n",
       "0                    Shorts   SRTEH2FF9KEDEFGF           999   \n",
       "\n",
       "   discounted_price  product_rating   Brand  \n",
       "0               379             2.0  Alisha  "
      ]
     },
     "execution_count": 8,
     "metadata": {},
     "output_type": "execute_result"
    }
   ],
   "source": [
    "ECom_Data.drop(columns=['product_specifications','description']).head(1)"
   ]
  },
  {
   "cell_type": "markdown",
   "id": "e6159f6a",
   "metadata": {},
   "source": [
    "### Ans 2 b)"
   ]
  },
  {
   "cell_type": "markdown",
   "id": "9fdee5dd",
   "metadata": {},
   "source": [
    " we have to eliminate columns as done in section (a) before returning the output to the dataframe. With this, the columns will be permanently deleted."
   ]
  },
  {
   "cell_type": "markdown",
   "id": "cde421e0",
   "metadata": {},
   "source": [
    "<font color='blue'>\n",
    "    <font size = 5>\n",
    "        The next steps in this project involves summarization of data at various levels and visualization. Apparently, such simple steps are very useful to get an overall sense of the data.\n",
    "    </font>"
   ]
  },
  {
   "cell_type": "markdown",
   "id": "41c30ad7",
   "metadata": {},
   "source": [
    "## Q 3. Here we summarize the data at Brand level.\n",
    "## a) How many unique Brand are there? (2 marks)\n",
    "## b) Note that each Brand contains multiple products. Show the average product_rating within each Brand (2 marks)\n"
   ]
  },
  {
   "cell_type": "markdown",
   "id": "beb3f83f",
   "metadata": {},
   "source": [
    "### Ans 3 a)"
   ]
  },
  {
   "cell_type": "code",
   "execution_count": 9,
   "id": "ce1d3f1d",
   "metadata": {},
   "outputs": [
    {
     "name": "stdout",
     "output_type": "stream",
     "text": [
      "Count of unique Brands 2580\n"
     ]
    }
   ],
   "source": [
    "print('Count of unique Brands', len(ECom_Data['Brand'].unique()))"
   ]
  },
  {
   "cell_type": "markdown",
   "id": "5083d866",
   "metadata": {},
   "source": [
    "### Ans 3 b)"
   ]
  },
  {
   "cell_type": "code",
   "execution_count": 10,
   "id": "10018c2c",
   "metadata": {},
   "outputs": [
    {
     "data": {
      "text/html": [
       "<div>\n",
       "<style scoped>\n",
       "    .dataframe tbody tr th:only-of-type {\n",
       "        vertical-align: middle;\n",
       "    }\n",
       "\n",
       "    .dataframe tbody tr th {\n",
       "        vertical-align: top;\n",
       "    }\n",
       "\n",
       "    .dataframe thead th {\n",
       "        text-align: right;\n",
       "    }\n",
       "</style>\n",
       "<table border=\"1\" class=\"dataframe\">\n",
       "  <thead>\n",
       "    <tr style=\"text-align: right;\">\n",
       "      <th></th>\n",
       "      <th>Brand</th>\n",
       "      <th>product_rating</th>\n",
       "    </tr>\n",
       "  </thead>\n",
       "  <tbody>\n",
       "    <tr>\n",
       "      <th>0</th>\n",
       "      <td>1OAK</td>\n",
       "      <td>1.500000</td>\n",
       "    </tr>\n",
       "    <tr>\n",
       "      <th>1</th>\n",
       "      <td>3A AUTOCARE</td>\n",
       "      <td>3.268293</td>\n",
       "    </tr>\n",
       "    <tr>\n",
       "      <th>2</th>\n",
       "      <td>3D Mat</td>\n",
       "      <td>3.000000</td>\n",
       "    </tr>\n",
       "    <tr>\n",
       "      <th>3</th>\n",
       "      <td>3kFactory</td>\n",
       "      <td>2.000000</td>\n",
       "    </tr>\n",
       "    <tr>\n",
       "      <th>4</th>\n",
       "      <td>4D</td>\n",
       "      <td>3.600000</td>\n",
       "    </tr>\n",
       "    <tr>\n",
       "      <th>...</th>\n",
       "      <td>...</td>\n",
       "      <td>...</td>\n",
       "    </tr>\n",
       "    <tr>\n",
       "      <th>2575</th>\n",
       "      <td>youniqueshop</td>\n",
       "      <td>2.000000</td>\n",
       "    </tr>\n",
       "    <tr>\n",
       "      <th>2576</th>\n",
       "      <td>zDelhi.com</td>\n",
       "      <td>5.000000</td>\n",
       "    </tr>\n",
       "    <tr>\n",
       "      <th>2577</th>\n",
       "      <td>zaidis</td>\n",
       "      <td>4.000000</td>\n",
       "    </tr>\n",
       "    <tr>\n",
       "      <th>2578</th>\n",
       "      <td>zasmina</td>\n",
       "      <td>4.500000</td>\n",
       "    </tr>\n",
       "    <tr>\n",
       "      <th>2579</th>\n",
       "      <td>Tarkan</td>\n",
       "      <td>5.000000</td>\n",
       "    </tr>\n",
       "  </tbody>\n",
       "</table>\n",
       "<p>2580 rows × 2 columns</p>\n",
       "</div>"
      ],
      "text/plain": [
       "             Brand  product_rating\n",
       "0             1OAK        1.500000\n",
       "1      3A AUTOCARE        3.268293\n",
       "2           3D Mat        3.000000\n",
       "3        3kFactory        2.000000\n",
       "4               4D        3.600000\n",
       "...            ...             ...\n",
       "2575  youniqueshop        2.000000\n",
       "2576    zDelhi.com        5.000000\n",
       "2577        zaidis        4.000000\n",
       "2578       zasmina        4.500000\n",
       "2579        Tarkan        5.000000\n",
       "\n",
       "[2580 rows x 2 columns]"
      ]
     },
     "execution_count": 10,
     "metadata": {},
     "output_type": "execute_result"
    }
   ],
   "source": [
    "ECom_Data.groupby(['Brand'])['product_rating'].mean().reset_index()"
   ]
  },
  {
   "cell_type": "markdown",
   "id": "bbf162af",
   "metadata": {},
   "source": [
    "## Q 4. Next we study the main categories of the products.\n",
    "\n",
    "## a) Create an appropriate plot to show the count of items ordered for each product_main_category. (6 marks).\n",
    "\n",
    "### Hint: Create a bar chart titled \"Product Category type\" where product_main_category are on x-axis and counts are on y-axis.\n",
    "\n",
    "### Note: Both axis labels, i.e. the names of the product_main_category and counts must be clearly legible. \n",
    "\n",
    "## b) From the plot identify for which two product_main_category(s)  maximum and minimum orders were placed. (2 marks)\n",
    "\n",
    "## c) Write code to print out the top 5 product_main_category(s)  in descending order? (3 marks"
   ]
  },
  {
   "cell_type": "markdown",
   "id": "36c72928",
   "metadata": {},
   "source": [
    "### Ans 4 a)"
   ]
  },
  {
   "cell_type": "code",
   "execution_count": 11,
   "id": "f60dd2c1",
   "metadata": {},
   "outputs": [
    {
     "data": {
      "image/png": "[encoded data removed]",
      "text/plain": [
       "<Figure size 1080x720 with 1 Axes>"
      ]
     },
     "metadata": {
      "needs_background": "light"
     },
     "output_type": "display_data"
    }
   ],
   "source": [
    "plt.figure(figsize=(15,10))\n",
    "ax = sns.countplot(x ='product_main_category', data = ECom_Data, order = ECom_Data['product_main_category'].value_counts().index)\n",
    "ax.set_xticklabels(ax.get_xticklabels(), rotation=40, ha=\"right\")\n",
    "ax.bar_label(ax.containers[0])\n",
    "plt.tight_layout()\n",
    "plt.title(\"Product Category type\")\n",
    "plt.xlabel(\"product categories\")\n",
    "plt.ylabel(\"counts\")\n",
    "plt.show()"
   ]
  },
  {
   "cell_type": "markdown",
   "id": "13a5b355",
   "metadata": {},
   "source": [
    "### Ans 4 b)"
   ]
  },
  {
   "cell_type": "markdown",
   "id": "6bee172b",
   "metadata": {},
   "source": [
    "From the above graph I can see that clothing category has the maximum number of orders placed and Wearables Smart Devices have the minimum orders"
   ]
  },
  {
   "cell_type": "markdown",
   "id": "4ea60c92",
   "metadata": {},
   "source": [
    "### Ans 4 c)"
   ]
  },
  {
   "cell_type": "code",
   "execution_count": 12,
   "id": "7f704116",
   "metadata": {},
   "outputs": [],
   "source": [
    "sorted_cat_data = ECom_Data.groupby(['product_main_category'])['Customer_uniq_id']\\\n",
    ".count().reset_index().sort_values(by=['Customer_uniq_id'], ascending=False).rename({'Customer_uniq_id':'orders'},axis=1)"
   ]
  },
  {
   "cell_type": "code",
   "execution_count": 13,
   "id": "a08c0dcb",
   "metadata": {},
   "outputs": [
    {
     "data": {
      "text/html": [
       "<div>\n",
       "<style scoped>\n",
       "    .dataframe tbody tr th:only-of-type {\n",
       "        vertical-align: middle;\n",
       "    }\n",
       "\n",
       "    .dataframe tbody tr th {\n",
       "        vertical-align: top;\n",
       "    }\n",
       "\n",
       "    .dataframe thead th {\n",
       "        text-align: right;\n",
       "    }\n",
       "</style>\n",
       "<table border=\"1\" class=\"dataframe\">\n",
       "  <thead>\n",
       "    <tr style=\"text-align: right;\">\n",
       "      <th></th>\n",
       "      <th>product_main_category</th>\n",
       "      <th>orders</th>\n",
       "    </tr>\n",
       "  </thead>\n",
       "  <tbody>\n",
       "    <tr>\n",
       "      <th>5</th>\n",
       "      <td>Clothing</td>\n",
       "      <td>2952</td>\n",
       "    </tr>\n",
       "    <tr>\n",
       "      <th>18</th>\n",
       "      <td>Mobiles &amp; Accessories</td>\n",
       "      <td>1084</td>\n",
       "    </tr>\n",
       "    <tr>\n",
       "      <th>0</th>\n",
       "      <td>Automotive</td>\n",
       "      <td>1001</td>\n",
       "    </tr>\n",
       "    <tr>\n",
       "      <th>12</th>\n",
       "      <td>Home Decor &amp; Festive Needs</td>\n",
       "      <td>727</td>\n",
       "    </tr>\n",
       "    <tr>\n",
       "      <th>6</th>\n",
       "      <td>Computers</td>\n",
       "      <td>558</td>\n",
       "    </tr>\n",
       "  </tbody>\n",
       "</table>\n",
       "</div>"
      ],
      "text/plain": [
       "          product_main_category  orders\n",
       "5                     Clothing     2952\n",
       "18       Mobiles & Accessories     1084\n",
       "0                   Automotive     1001\n",
       "12  Home Decor & Festive Needs      727\n",
       "6                    Computers      558"
      ]
     },
     "execution_count": 13,
     "metadata": {},
     "output_type": "execute_result"
    }
   ],
   "source": [
    "sorted_cat_data.head(5)"
   ]
  },
  {
   "cell_type": "markdown",
   "id": "a9f81605",
   "metadata": {},
   "source": [
    "<font color='blue'>\n",
    "    <font size = 5>\n",
    "    In E-commerce, both the retailers (here brands) and the company have to make profit to sustain in the business. \n",
    "    The E-Commerce company has the following rule for computing their own revenue: </font> \n",
    "    \n",
    "####     The company charges  \n",
    "####  (i) 25% on the orders having final price (discounted price) greater than 600\n",
    "\n",
    "#### (ii) 15% on the orders having final price (discounted price) greater than 350 but less than or equal to 600\n",
    "\n",
    "#### (iii) 10% on the orders having final price (discounted price) greater than 100 but less than or equal to 350\n",
    "\n",
    "#### (iv) Otherwise, 5% on the final price (discounted price)    </font> "
   ]
  },
  {
   "cell_type": "markdown",
   "id": "0f255fea",
   "metadata": {},
   "source": [
    "## Q 5. Find the net revenue generated by the E-Commerce company over all orders placed. (6 marks)"
   ]
  },
  {
   "cell_type": "markdown",
   "id": "1f6b8028",
   "metadata": {},
   "source": [
    "### Ans 5"
   ]
  },
  {
   "cell_type": "code",
   "execution_count": 14,
   "id": "c62d888f",
   "metadata": {},
   "outputs": [],
   "source": [
    "def payment_to_ECom(temp_df):\n",
    "    if temp_df.orders > 600:\n",
    "        ECom_charge = temp_df.discounted_price *0.25\n",
    "    elif temp_df.orders > 350 and temp_df.orders <= 600 :\n",
    "        ECom_charge = temp_df.discounted_price *0.15\n",
    "    elif temp_df.orders > 100 and temp_df.orders <= 350 :\n",
    "        ECom_charge = temp_df.discounted_price *0.10\n",
    "    else:\n",
    "         ECom_charge = temp_df.discounted_price *0.05\n",
    "    return ECom_charge"
   ]
  },
  {
   "cell_type": "code",
   "execution_count": 15,
   "id": "0da39754",
   "metadata": {},
   "outputs": [
    {
     "name": "stdout",
     "output_type": "stream",
     "text": [
      "Total revenue of ECom company 615446.95\n"
     ]
    }
   ],
   "source": [
    "revenue_data = ECom_Data.groupby(['Brand']).agg({'Customer_uniq_id':'count','discounted_price':'sum'}).reset_index()\\\n",
    "                                .rename({'Customer_uniq_id':'orders'},axis=1)\n",
    "revenue_data['ECom_charge'] = revenue_data.apply(payment_to_ECom, axis = 1)\n",
    "print('Total revenue of ECom company', round(revenue_data['ECom_charge'].sum(),2))"
   ]
  },
  {
   "cell_type": "markdown",
   "id": "73dd23c3",
   "metadata": {},
   "source": [
    "## Q6.Calculate the Net BrandRevenue for each Brand and list the top 14 Brand having maximum revenue in descending order (6 marks)\n",
    "#### Hint: Net BrandRevenue is BrandRevenue which is generated after all the deductions. Also, BrandRevenue is different from the E-Commerce company's net revenue."
   ]
  },
  {
   "cell_type": "markdown",
   "id": "3514fa79",
   "metadata": {},
   "source": [
    "### Ans 6"
   ]
  },
  {
   "cell_type": "code",
   "execution_count": 16,
   "id": "437c69b5",
   "metadata": {},
   "outputs": [
    {
     "data": {
      "text/html": [
       "<div>\n",
       "<style scoped>\n",
       "    .dataframe tbody tr th:only-of-type {\n",
       "        vertical-align: middle;\n",
       "    }\n",
       "\n",
       "    .dataframe tbody tr th {\n",
       "        vertical-align: top;\n",
       "    }\n",
       "\n",
       "    .dataframe thead th {\n",
       "        text-align: right;\n",
       "    }\n",
       "</style>\n",
       "<table border=\"1\" class=\"dataframe\">\n",
       "  <thead>\n",
       "    <tr style=\"text-align: right;\">\n",
       "      <th></th>\n",
       "      <th>Brand</th>\n",
       "      <th>brand_profit</th>\n",
       "    </tr>\n",
       "  </thead>\n",
       "  <tbody>\n",
       "    <tr>\n",
       "      <th>0</th>\n",
       "      <td>Allure Auto</td>\n",
       "      <td>564926.15</td>\n",
       "    </tr>\n",
       "    <tr>\n",
       "      <th>1</th>\n",
       "      <td>GAGA</td>\n",
       "      <td>300694.00</td>\n",
       "    </tr>\n",
       "    <tr>\n",
       "      <th>2</th>\n",
       "      <td>Slim</td>\n",
       "      <td>244959.30</td>\n",
       "    </tr>\n",
       "    <tr>\n",
       "      <th>3</th>\n",
       "      <td>DailyObjects</td>\n",
       "      <td>218376.00</td>\n",
       "    </tr>\n",
       "    <tr>\n",
       "      <th>4</th>\n",
       "      <td>Diviniti</td>\n",
       "      <td>181279.00</td>\n",
       "    </tr>\n",
       "    <tr>\n",
       "      <th>...</th>\n",
       "      <td>...</td>\n",
       "      <td>...</td>\n",
       "    </tr>\n",
       "    <tr>\n",
       "      <th>9</th>\n",
       "      <td>Springwel</td>\n",
       "      <td>112706.10</td>\n",
       "    </tr>\n",
       "    <tr>\n",
       "      <th>10</th>\n",
       "      <td>Audeze</td>\n",
       "      <td>110477.40</td>\n",
       "    </tr>\n",
       "    <tr>\n",
       "      <th>11</th>\n",
       "      <td>Lal Haveli</td>\n",
       "      <td>93802.05</td>\n",
       "    </tr>\n",
       "    <tr>\n",
       "      <th>12</th>\n",
       "      <td>FabHomeDecor</td>\n",
       "      <td>86054.80</td>\n",
       "    </tr>\n",
       "    <tr>\n",
       "      <th>13</th>\n",
       "      <td>Netgear</td>\n",
       "      <td>83484.10</td>\n",
       "    </tr>\n",
       "  </tbody>\n",
       "</table>\n",
       "<p>14 rows × 2 columns</p>\n",
       "</div>"
      ],
      "text/plain": [
       "           Brand  brand_profit\n",
       "0    Allure Auto     564926.15\n",
       "1           GAGA     300694.00\n",
       "2           Slim     244959.30\n",
       "3   DailyObjects     218376.00\n",
       "4       Diviniti     181279.00\n",
       "..           ...           ...\n",
       "9      Springwel     112706.10\n",
       "10        Audeze     110477.40\n",
       "11    Lal Haveli      93802.05\n",
       "12  FabHomeDecor      86054.80\n",
       "13       Netgear      83484.10\n",
       "\n",
       "[14 rows x 2 columns]"
      ]
     },
     "execution_count": 16,
     "metadata": {},
     "output_type": "execute_result"
    }
   ],
   "source": [
    "revenue_data['brand_profit'] = revenue_data['discounted_price'] - revenue_data['ECom_charge']\n",
    "revenue_data_brand = revenue_data[['Brand','brand_profit']]\n",
    "revenue_data_brand.sort_values(by=['brand_profit'],ascending=False).reset_index(drop=True).head(14)"
   ]
  },
  {
   "cell_type": "markdown",
   "id": "2a2bbd83",
   "metadata": {},
   "source": [
    "<font color='blue'>\n",
    "    <font size = 5>\n",
    "Let us now investigate multiple features for each product to determine any pattern.\n",
    "</font>"
   ]
  },
  {
   "cell_type": "markdown",
   "id": "1aa1834b",
   "metadata": {},
   "source": [
    "## Q 7. Compare prices for each product.\n",
    "\n",
    "## a)\tDraw boxplots of retail_price & discounted_price. (3 marks)\n",
    "\n",
    "## b)\t Are there any outliers? (Yes/No) (1mark)\n",
    "\n",
    "## c)\tCreate a scatterplot of retail_price (x-axis) and discounted_price (y-axis) (3 marks)\n"
   ]
  },
  {
   "cell_type": "markdown",
   "id": "d5aae861",
   "metadata": {},
   "source": [
    "### Ans 7 a)"
   ]
  },
  {
   "cell_type": "code",
   "execution_count": 17,
   "id": "510fd4d0",
   "metadata": {},
   "outputs": [
    {
     "data": {
      "text/html": [
       "<div>\n",
       "<style scoped>\n",
       "    .dataframe tbody tr th:only-of-type {\n",
       "        vertical-align: middle;\n",
       "    }\n",
       "\n",
       "    .dataframe tbody tr th {\n",
       "        vertical-align: top;\n",
       "    }\n",
       "\n",
       "    .dataframe thead th {\n",
       "        text-align: right;\n",
       "    }\n",
       "</style>\n",
       "<table border=\"1\" class=\"dataframe\">\n",
       "  <thead>\n",
       "    <tr style=\"text-align: right;\">\n",
       "      <th></th>\n",
       "      <th>Customer_uniq_id</th>\n",
       "      <th>Region</th>\n",
       "      <th>Order_Date</th>\n",
       "      <th>Expected_Delivery_Date</th>\n",
       "      <th>Delivered_Date</th>\n",
       "      <th>product_name</th>\n",
       "      <th>product_main_category</th>\n",
       "      <th>product_subcategory</th>\n",
       "      <th>product_category_filter</th>\n",
       "      <th>product_category_subfilter</th>\n",
       "      <th>product_unique ID</th>\n",
       "      <th>retail_price</th>\n",
       "      <th>discounted_price</th>\n",
       "      <th>product_rating</th>\n",
       "      <th>Brand</th>\n",
       "      <th>product_specifications</th>\n",
       "      <th>description</th>\n",
       "    </tr>\n",
       "  </thead>\n",
       "  <tbody>\n",
       "    <tr>\n",
       "      <th>0</th>\n",
       "      <td>c2d766ca982eca8304150849735ffef9</td>\n",
       "      <td>North</td>\n",
       "      <td>31-12-2021</td>\n",
       "      <td>03-01-2022</td>\n",
       "      <td>02-01-2022</td>\n",
       "      <td>Alisha Solid Women's Cycling Shorts</td>\n",
       "      <td>Clothing</td>\n",
       "      <td>Women's Clothing</td>\n",
       "      <td>Lingerie, Sleep &amp; Swimwear</td>\n",
       "      <td>Shorts</td>\n",
       "      <td>SRTEH2FF9KEDEFGF</td>\n",
       "      <td>999</td>\n",
       "      <td>379</td>\n",
       "      <td>2.0</td>\n",
       "      <td>Alisha</td>\n",
       "      <td>{\"product_specification\"=&gt;[{\"key\"=&gt;\"Number of ...</td>\n",
       "      <td>Key Features of Alisha Solid Women's Cycling S...</td>\n",
       "    </tr>\n",
       "  </tbody>\n",
       "</table>\n",
       "</div>"
      ],
      "text/plain": [
       "                   Customer_uniq_id Region  Order_Date Expected_Delivery_Date  \\\n",
       "0  c2d766ca982eca8304150849735ffef9  North  31-12-2021             03-01-2022   \n",
       "\n",
       "  Delivered_Date                         product_name product_main_category  \\\n",
       "0     02-01-2022  Alisha Solid Women's Cycling Shorts             Clothing    \n",
       "\n",
       "  product_subcategory       product_category_filter  \\\n",
       "0   Women's Clothing    Lingerie, Sleep & Swimwear    \n",
       "\n",
       "  product_category_subfilter product_unique ID  retail_price  \\\n",
       "0                    Shorts   SRTEH2FF9KEDEFGF           999   \n",
       "\n",
       "   discounted_price  product_rating   Brand  \\\n",
       "0               379             2.0  Alisha   \n",
       "\n",
       "                              product_specifications  \\\n",
       "0  {\"product_specification\"=>[{\"key\"=>\"Number of ...   \n",
       "\n",
       "                                         description  \n",
       "0  Key Features of Alisha Solid Women's Cycling S...  "
      ]
     },
     "execution_count": 17,
     "metadata": {},
     "output_type": "execute_result"
    }
   ],
   "source": [
    "ECom_Data.head(1)"
   ]
  },
  {
   "cell_type": "code",
   "execution_count": 18,
   "id": "98cf81b4",
   "metadata": {},
   "outputs": [
    {
     "data": {
      "image/png": "[encoded data removed]",
      "text/plain": [
       "<Figure size 1368x720 with 1 Axes>"
      ]
     },
     "metadata": {
      "needs_background": "light"
     },
     "output_type": "display_data"
    }
   ],
   "source": [
    "#Retail Price boxplot\n",
    "plt.figure(figsize=(19,10))\n",
    "ax = sns.boxplot(x='product_main_category',y='retail_price',data=ECom_Data, palette='rainbow')\n",
    "ax.set_xticklabels(ax.get_xticklabels(), rotation=40, ha=\"right\")\n",
    "plt.title(\"Retail price distribution based on product_main_category\")\n",
    "plt.xlabel(\"product_main_category\")\n",
    "plt.ylabel(\"retail_price\")\n",
    "plt.show()"
   ]
  },
  {
   "cell_type": "code",
   "execution_count": 19,
   "id": "3de738f1",
   "metadata": {},
   "outputs": [
    {
     "data": {
      "image/png": "[encoded data removed]",
      "text/plain": [
       "<Figure size 1368x648 with 1 Axes>"
      ]
     },
     "metadata": {
      "needs_background": "light"
     },
     "output_type": "display_data"
    }
   ],
   "source": [
    "# Discounted  Price boxplot\n",
    "plt.figure(figsize=(19,9))\n",
    "ax = sns.boxplot(x='product_main_category',y='discounted_price',data=ECom_Data, palette='rainbow')\n",
    "ax.set_xticklabels(ax.get_xticklabels(), rotation=40, ha=\"right\")\n",
    "plt.title(\"Discount price distribution based on product_main_category\")\n",
    "plt.xlabel(\"product_main_category\")\n",
    "plt.ylabel(\"discount_price\")\n",
    "plt.show()"
   ]
  },
  {
   "cell_type": "markdown",
   "id": "78b92e7c",
   "metadata": {},
   "source": [
    "### Ans 7 b)"
   ]
  },
  {
   "cell_type": "markdown",
   "id": "35106c88",
   "metadata": {},
   "source": [
    "yes"
   ]
  },
  {
   "cell_type": "markdown",
   "id": "0389c9b8",
   "metadata": {},
   "source": [
    "### Ans 7 c)"
   ]
  },
  {
   "cell_type": "code",
   "execution_count": 20,
   "id": "d8c44be9",
   "metadata": {},
   "outputs": [
    {
     "data": {
      "image/png": "[encoded data removed]",
      "text/plain": [
       "<Figure size 432x288 with 1 Axes>"
      ]
     },
     "metadata": {
      "needs_background": "light"
     },
     "output_type": "display_data"
    }
   ],
   "source": [
    "plt.scatter(ECom_Data['retail_price'], ECom_Data['discounted_price'])\n",
    "plt.tight_layout()\n",
    "plt.title(\"Scatterplot retail vs discounted price\")\n",
    "plt.xlabel(\"retail_price\")\n",
    "plt.ylabel(\"discounted_price\")\n",
    "plt.show()"
   ]
  },
  {
   "cell_type": "markdown",
   "id": "3bc47f55",
   "metadata": {},
   "source": [
    "<font color='blue'>\n",
    "    <font size = 5>\n",
    "    The next steps will enable to study brand-level information.\n",
    "    </font>"
   ]
  },
  {
   "cell_type": "markdown",
   "id": "b9bd00f7",
   "metadata": {},
   "source": [
    "## Q 8. Create a new dataframe to include the Brand specific information as stated:\n",
    "## i.\ttotal number of orders placed per Brand\n",
    "## ii.\ttotal retail_price per Brand\n",
    "## iii.\ttotal discounted_price per Brand, and \n",
    "## iv.\ttotal net BrandRevenue generated per Brand. \n",
    "\n",
    "## Also, draw a pairplot using these four features. (6 marks)\n"
   ]
  },
  {
   "cell_type": "markdown",
   "id": "8f83cea9",
   "metadata": {},
   "source": [
    "### Ans 8"
   ]
  },
  {
   "cell_type": "code",
   "execution_count": 21,
   "id": "ae749847",
   "metadata": {},
   "outputs": [],
   "source": [
    "revenue_data_brand_info = ECom_Data.groupby(['Brand']).agg({'Customer_uniq_id':'count','retail_price':'sum','discounted_price':'sum'}).reset_index()\\\n",
    "                                .rename({'Customer_uniq_id':'orders'},axis=1)\n",
    "revenue_data_brand_info['Ecom_charge'] = revenue_data_brand_info.apply(payment_to_ECom, axis = 1)\n",
    "revenue_data_brand_info['BrandRevenue'] = revenue_data_brand_info['discounted_price'] - revenue_data['ECom_charge']\n",
    "revenue_data_brand_info = revenue_data_brand_info[['Brand','orders','retail_price','discounted_price','BrandRevenue']]"
   ]
  },
  {
   "cell_type": "code",
   "execution_count": null,
   "id": "d5e1d89e",
   "metadata": {},
   "outputs": [],
   "source": [
    "sns.pairplot(revenue_data_brand_info[['orders','retail_price','discounted_price','BrandRevenue']])"
   ]
  },
  {
   "cell_type": "markdown",
   "id": "ecec83f4",
   "metadata": {},
   "source": [
    "<font color='blue'>\n",
    "    <font size = 5>\n",
    "    The E-Commerce company operate in multiple regions. It is important to understand its performance in each region.\n",
    "    </font>"
   ]
  },
  {
   "cell_type": "markdown",
   "id": "dd09b8aa",
   "metadata": {},
   "source": [
    "## Q 9.Compare performance regionwise\n",
    "\n",
    "## a)\tDraw a lineplot for the monthly net Revenue of E-Commerce Company for each region separately.  (4 marks) \n",
    "\n",
    "## b)\tIdentify the best and the worst performing months for each region. (2 marks)\n",
    "\n",
    "#### Note: Only those days with actual orders(Order_Date) placed are present in the dataset. Assuming there were no orders on other days"
   ]
  },
  {
   "cell_type": "markdown",
   "id": "e6d64aea",
   "metadata": {},
   "source": [
    "### Ans 9 a)"
   ]
  },
  {
   "cell_type": "code",
   "execution_count": null,
   "id": "d9a4f534",
   "metadata": {},
   "outputs": [],
   "source": [
    "import copy\n",
    "data_region = copy.deepcopy(ECom_Data)\n",
    "data_region['Month'] = pd.to_datetime(data_region['Order_Date']).dt.month\n",
    "data_region = data_region.groupby(['Month','Region'])['Order_Date'].count().reset_index().rename({'Order_Date':'count'},axis=1)\n",
    "sns.lineplot(data = data_region, x = 'Month', y = 'count', hue = 'Region')\n",
    "plt.show()"
   ]
  },
  {
   "cell_type": "markdown",
   "id": "dac59dc4",
   "metadata": {},
   "source": [
    "### Ans 9 b)"
   ]
  },
  {
   "cell_type": "code",
   "execution_count": null,
   "id": "9f569635",
   "metadata": {},
   "outputs": [],
   "source": []
  },
  {
   "cell_type": "markdown",
   "id": "dcb8d39f",
   "metadata": {},
   "source": [
    "<font color='blue'>\n",
    "    <font size = 5>\n",
    "    Congratulations! You have learnt how to approach a complex data and extract information out of it. \n",
    "    </font>"
   ]
  }
 ],
 "metadata": {
  "kernelspec": {
   "display_name": "Python 3 (ipykernel)",
   "language": "python",
   "name": "python3"
  },
  "language_info": {
   "codemirror_mode": {
    "name": "ipython",
    "version": 3
   },
   "file_extension": ".py",
   "mimetype": "text/x-python",
   "name": "python",
   "nbconvert_exporter": "python",
   "pygments_lexer": "ipython3",
   "version": "3.9.7"
  }
 },
 "nbformat": 4,
 "nbformat_minor": 5
}
